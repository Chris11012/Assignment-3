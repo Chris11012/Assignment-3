{
 "cells": [
  {
   "cell_type": "markdown",
   "id": "e7d8176c",
   "metadata": {},
   "source": [
    "# Assignment 3\n",
    "## Christopher Douglas\n",
    "### Version 1\n",
    "#### Computer Prog for Liberal Arts (CS-150-01)"
   ]
  },
  {
   "cell_type": "markdown",
   "id": "953bcd19",
   "metadata": {},
   "source": [
    "Append adds one item to the end of a given list."
   ]
  },
  {
   "cell_type": "code",
   "execution_count": 9,
   "id": "6787556e",
   "metadata": {},
   "outputs": [
    {
     "name": "stdout",
     "output_type": "stream",
     "text": [
      "[1, 2, 3, 4, 5, 4, 5]\n",
      "[1, 2, 3, 4, 5, 4, 5, 7]\n"
     ]
    }
   ],
   "source": [
    "numbers=[1,2,3,4,5,4,5,]\n",
    "print(numbers)\n",
    "numbers.append(7)\n",
    "print(numbers)"
   ]
  },
  {
   "cell_type": "markdown",
   "id": "933b438f",
   "metadata": {},
   "source": [
    "Extend adds multiple items to the end of a list."
   ]
  },
  {
   "cell_type": "code",
   "execution_count": 12,
   "id": "9b3272b1",
   "metadata": {},
   "outputs": [
    {
     "name": "stdout",
     "output_type": "stream",
     "text": [
      "[10, 20, 30, 40, 50]\n",
      "[1, 2, 3, 4, 5, 4, 5, 7, 10, 20, 30, 40, 50, 10, 20, 30, 40, 50]\n"
     ]
    }
   ],
   "source": [
    "numbers1=[10,20,30,40,50]\n",
    "print(numbers1)\n",
    "numbers.extend(numbers1)\n",
    "print(numbers)"
   ]
  },
  {
   "cell_type": "markdown",
   "id": "3af7a04d",
   "metadata": {},
   "source": [
    "Insert adds a specific vaule into a specified position"
   ]
  },
  {
   "cell_type": "code",
   "execution_count": 15,
   "id": "fcde656f",
   "metadata": {},
   "outputs": [
    {
     "name": "stdout",
     "output_type": "stream",
     "text": [
      "[1, 2, 142, 3, 4, 5, 4, 5, 7, 10, 20, 30, 40, 50, 10, 20, 30, 40, 50]\n",
      "[1, 2, 142, 142, 3, 4, 5, 4, 5, 7, 10, 20, 30, 40, 50, 10, 20, 30, 40, 50]\n"
     ]
    }
   ],
   "source": [
    "print(numbers)\n",
    "numbers.insert(2,142)\n",
    "print(numbers)"
   ]
  },
  {
   "cell_type": "markdown",
   "id": "64ab5ef8",
   "metadata": {},
   "source": [
    "Remove deletes a named element from the list"
   ]
  },
  {
   "cell_type": "code",
   "execution_count": 21,
   "id": "a54922cc",
   "metadata": {},
   "outputs": [
    {
     "name": "stdout",
     "output_type": "stream",
     "text": [
      "[1, 2, 142, 142, 4, 5, 4, 5, 7, 10, 20, 30, 40, 50, 10, 20, 30, 40, 50]\n",
      "[1, 2, 142, 4, 5, 4, 5, 7, 10, 20, 30, 40, 50, 10, 20, 30, 40, 50]\n"
     ]
    }
   ],
   "source": [
    "print(numbers)\n",
    "numbers.remove(142)\n",
    "print(numbers)"
   ]
  },
  {
   "cell_type": "markdown",
   "id": "1c5533a9",
   "metadata": {},
   "source": [
    "Count adds up how many times the same element appears "
   ]
  },
  {
   "cell_type": "code",
   "execution_count": 25,
   "id": "f6541028",
   "metadata": {},
   "outputs": [
    {
     "name": "stdout",
     "output_type": "stream",
     "text": [
      "[1, 2, 142, 4, 5, 4, 5, 7, 10, 20, 30, 40, 50, 10, 20, 30, 40, 50]\n"
     ]
    },
    {
     "data": {
      "text/plain": [
       "2"
      ]
     },
     "execution_count": 25,
     "metadata": {},
     "output_type": "execute_result"
    }
   ],
   "source": [
    "print(numbers)\n",
    "numbers.count(5)"
   ]
  },
  {
   "cell_type": "markdown",
   "id": "165e2976",
   "metadata": {},
   "source": [
    "Index gives you the index posisiton of a element in your ist "
   ]
  },
  {
   "cell_type": "code",
   "execution_count": 28,
   "id": "cb60df30",
   "metadata": {},
   "outputs": [
    {
     "name": "stdout",
     "output_type": "stream",
     "text": [
      "[1, 2, 142, 4, 5, 4, 5, 7, 10, 20, 30, 40, 50, 10, 20, 30, 40, 50]\n"
     ]
    },
    {
     "data": {
      "text/plain": [
       "2"
      ]
     },
     "execution_count": 28,
     "metadata": {},
     "output_type": "execute_result"
    }
   ],
   "source": [
    "print(numbers)\n",
    "numbers.index(142)"
   ]
  },
  {
   "cell_type": "markdown",
   "id": "32529185",
   "metadata": {},
   "source": [
    "Pop removes a element based on its index"
   ]
  },
  {
   "cell_type": "code",
   "execution_count": 30,
   "id": "ad9ab425",
   "metadata": {},
   "outputs": [
    {
     "name": "stdout",
     "output_type": "stream",
     "text": [
      "[1, 2, 142, 4, 5, 4, 5, 7, 10, 20, 30, 40, 50, 10, 20, 30, 40, 50]\n",
      "[1, 2, 4, 5, 4, 5, 7, 10, 20, 30, 40, 50, 10, 20, 30, 40, 50]\n"
     ]
    }
   ],
   "source": [
    "print(numbers)\n",
    "numbers.pop(2)\n",
    "print(numbers)"
   ]
  },
  {
   "cell_type": "markdown",
   "id": "d0c075e7",
   "metadata": {},
   "source": [
    "Sorted will temporarily sort your list"
   ]
  },
  {
   "cell_type": "code",
   "execution_count": 36,
   "id": "8a409464",
   "metadata": {},
   "outputs": [
    {
     "name": "stdout",
     "output_type": "stream",
     "text": [
      "[1, 2, 4, 5, 4, 5, 7, 10, 20, 30, 40, 50, 10, 20, 30, 40, 50]\n",
      "[1, 2, 4, 4, 5, 5, 7, 10, 10, 20, 20, 30, 30, 40, 40, 50, 50]\n"
     ]
    }
   ],
   "source": [
    "print(numbers)\n",
    "sortednumber= sorted(numbers)\n",
    "print(sortednumber)"
   ]
  },
  {
   "cell_type": "markdown",
   "id": "a28de62f",
   "metadata": {},
   "source": [
    "copy will make a copy of a list"
   ]
  },
  {
   "cell_type": "code",
   "execution_count": 37,
   "id": "2b59b02f",
   "metadata": {},
   "outputs": [
    {
     "name": "stdout",
     "output_type": "stream",
     "text": [
      "[1, 2, 4, 5, 4, 5, 7, 10, 20, 30, 40, 50, 10, 20, 30, 40, 50]\n",
      "[1, 2, 4, 5, 4, 5, 7, 10, 20, 30, 40, 50, 10, 20, 30, 40, 50]\n"
     ]
    }
   ],
   "source": [
    "print(numbers)\n",
    "copy=numbers.copy()\n",
    "print(copy)"
   ]
  },
  {
   "cell_type": "markdown",
   "id": "3349f5f7",
   "metadata": {},
   "source": [
    "Clear removes all items from a list "
   ]
  },
  {
   "cell_type": "code",
   "execution_count": 39,
   "id": "17004787",
   "metadata": {},
   "outputs": [
    {
     "name": "stdout",
     "output_type": "stream",
     "text": [
      "[1, 2, 4, 5, 4, 5, 7, 10, 20, 30, 40, 50, 10, 20, 30, 40, 50]\n",
      "[]\n"
     ]
    }
   ],
   "source": [
    "print(numbers)\n",
    "numbers.clear()\n",
    "print(numbers)"
   ]
  },
  {
   "cell_type": "markdown",
   "id": "8a1bf37c",
   "metadata": {},
   "source": [
    "List() will allow you to make the list you want"
   ]
  },
  {
   "cell_type": "code",
   "execution_count": 56,
   "id": "67205b4a",
   "metadata": {},
   "outputs": [
    {
     "data": {
      "text/plain": [
       "['b', 'o', 'b']"
      ]
     },
     "execution_count": 56,
     "metadata": {},
     "output_type": "execute_result"
    }
   ],
   "source": [
    "list(\"bob\")"
   ]
  },
  {
   "cell_type": "markdown",
   "id": "5f920849",
   "metadata": {},
   "source": [
    "len() function returns the number of items in an list"
   ]
  },
  {
   "cell_type": "code",
   "execution_count": 57,
   "id": "0f7275c1",
   "metadata": {},
   "outputs": [
    {
     "data": {
      "text/plain": [
       "4"
      ]
     },
     "execution_count": 57,
     "metadata": {},
     "output_type": "execute_result"
    }
   ],
   "source": [
    "list=(\"white\", \"black\", \"blue\", \"red\")\n",
    "len(list)"
   ]
  },
  {
   "cell_type": "markdown",
   "id": "4ddcdb58",
   "metadata": {},
   "source": [
    "max() function returns the item with the highest value"
   ]
  },
  {
   "cell_type": "code",
   "execution_count": 58,
   "id": "e786b9ce",
   "metadata": {},
   "outputs": [
    {
     "name": "stdout",
     "output_type": "stream",
     "text": [
      "('white', 'black', 'blue', 'red')\n"
     ]
    },
    {
     "data": {
      "text/plain": [
       "'white'"
      ]
     },
     "execution_count": 58,
     "metadata": {},
     "output_type": "execute_result"
    }
   ],
   "source": [
    "print(list)\n",
    "max(list)"
   ]
  },
  {
   "cell_type": "markdown",
   "id": "f8f5f9aa",
   "metadata": {},
   "source": [
    "min() function returns the item with the lowest value"
   ]
  },
  {
   "cell_type": "code",
   "execution_count": 61,
   "id": "ea611b75",
   "metadata": {},
   "outputs": [
    {
     "name": "stdout",
     "output_type": "stream",
     "text": [
      "('white', 'black', 'blue', 'red')\n"
     ]
    },
    {
     "data": {
      "text/plain": [
       "'black'"
      ]
     },
     "execution_count": 61,
     "metadata": {},
     "output_type": "execute_result"
    }
   ],
   "source": [
    "print(list)\n",
    "min(list)"
   ]
  }
 ],
 "metadata": {
  "kernelspec": {
   "display_name": "Python 3 (ipykernel)",
   "language": "python",
   "name": "python3"
  },
  "language_info": {
   "codemirror_mode": {
    "name": "ipython",
    "version": 3
   },
   "file_extension": ".py",
   "mimetype": "text/x-python",
   "name": "python",
   "nbconvert_exporter": "python",
   "pygments_lexer": "ipython3",
   "version": "3.9.13"
  }
 },
 "nbformat": 4,
 "nbformat_minor": 5
}
